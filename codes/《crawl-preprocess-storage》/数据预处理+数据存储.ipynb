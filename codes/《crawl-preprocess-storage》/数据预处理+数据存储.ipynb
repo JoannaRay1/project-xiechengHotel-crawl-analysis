{
 "cells": [
  {
   "cell_type": "markdown",
   "metadata": {},
   "source": [
    "# 安装并导入必要的包"
   ]
  },
  {
   "cell_type": "code",
   "execution_count": 2,
   "metadata": {
    "scrolled": true
   },
   "outputs": [],
   "source": [
    "%matplotlib inline\n",
    "import pandas as pd\n",
    "import numpy as np\n",
    "import jieba.posseg as psg\n",
    "import re"
   ]
  },
  {
   "cell_type": "markdown",
   "metadata": {},
   "source": [
    "# 数据读取"
   ]
  },
  {
   "cell_type": "code",
   "execution_count": 3,
   "metadata": {},
   "outputs": [
    {
     "data": {
      "text/html": [
       "<div>\n",
       "<style scoped>\n",
       "    .dataframe tbody tr th:only-of-type {\n",
       "        vertical-align: middle;\n",
       "    }\n",
       "\n",
       "    .dataframe tbody tr th {\n",
       "        vertical-align: top;\n",
       "    }\n",
       "\n",
       "    .dataframe thead th {\n",
       "        text-align: right;\n",
       "    }\n",
       "</style>\n",
       "<table border=\"1\" class=\"dataframe\">\n",
       "  <thead>\n",
       "    <tr style=\"text-align: right;\">\n",
       "      <th></th>\n",
       "      <th>Unnamed: 0</th>\n",
       "      <th>酒店名字</th>\n",
       "      <th>用户id</th>\n",
       "      <th>评论者</th>\n",
       "      <th>评分</th>\n",
       "      <th>入住时间</th>\n",
       "      <th>发布时间</th>\n",
       "      <th>入住目的</th>\n",
       "      <th>房间</th>\n",
       "      <th>内容</th>\n",
       "    </tr>\n",
       "  </thead>\n",
       "  <tbody>\n",
       "    <tr>\n",
       "      <th>0</th>\n",
       "      <td>0</td>\n",
       "      <td>上海外滩璞硯酒店</td>\n",
       "      <td>595542632</td>\n",
       "      <td>gold97</td>\n",
       "      <td>5.0</td>\n",
       "      <td>2022-06</td>\n",
       "      <td>2022-06-14</td>\n",
       "      <td>家庭亲子</td>\n",
       "      <td>标准大床房</td>\n",
       "      <td>疫情不能离沪，周末来住住酒店。订了普通大床房，给免费升级成江景大床房，窗外能看到黄浦江、人民...</td>\n",
       "    </tr>\n",
       "    <tr>\n",
       "      <th>1</th>\n",
       "      <td>1</td>\n",
       "      <td>上海外滩璞硯酒店</td>\n",
       "      <td>581695718</td>\n",
       "      <td>手抓食反</td>\n",
       "      <td>5.0</td>\n",
       "      <td>2022-03</td>\n",
       "      <td>2022-03-18</td>\n",
       "      <td>情侣出游</td>\n",
       "      <td>高级大床房</td>\n",
       "      <td>保安师傅的态度很好，前台小哥哥小姐姐也不错，后面几天又继续续住。开了酒店白金会员一直升房。就...</td>\n",
       "    </tr>\n",
       "    <tr>\n",
       "      <th>2</th>\n",
       "      <td>2</td>\n",
       "      <td>上海外滩璞硯酒店</td>\n",
       "      <td>576087084</td>\n",
       "      <td>HAKI0222</td>\n",
       "      <td>2.5</td>\n",
       "      <td>2022-02</td>\n",
       "      <td>2022-02-20</td>\n",
       "      <td>朋友出游</td>\n",
       "      <td>豪华家庭房</td>\n",
       "      <td>首先吐槽一下酒店楼下停车场，没有免费停车就不说了，环境脏乱差，停车位也很少，80一天的收费标...</td>\n",
       "    </tr>\n",
       "    <tr>\n",
       "      <th>3</th>\n",
       "      <td>3</td>\n",
       "      <td>上海外滩璞硯酒店</td>\n",
       "      <td>575270386</td>\n",
       "      <td>118492****</td>\n",
       "      <td>1.2</td>\n",
       "      <td>2022-02</td>\n",
       "      <td>2022-02-15</td>\n",
       "      <td>独自旅行</td>\n",
       "      <td>外滩全景大床房</td>\n",
       "      <td>这个酒店是我入住那么多酒店中的奇葩。首先，房间还行，还算对得起这价格，当然这个主要考虑的是地...</td>\n",
       "    </tr>\n",
       "    <tr>\n",
       "      <th>4</th>\n",
       "      <td>4</td>\n",
       "      <td>上海外滩璞硯酒店</td>\n",
       "      <td>573962070</td>\n",
       "      <td>SwiftyJiukun</td>\n",
       "      <td>5.0</td>\n",
       "      <td>2022-02</td>\n",
       "      <td>2022-02-06</td>\n",
       "      <td>情侣出游</td>\n",
       "      <td>豪华大床房</td>\n",
       "      <td>预定的豪华大床房，但是因为没打扫完所以前台就帮忙升级到了外滩江景房。房型没有豪华大床房大，但...</td>\n",
       "    </tr>\n",
       "  </tbody>\n",
       "</table>\n",
       "</div>"
      ],
      "text/plain": [
       "   Unnamed: 0      酒店名字       用户id           评论者   评分     入住时间        发布时间  \\\n",
       "0           0  上海外滩璞硯酒店  595542632        gold97  5.0  2022-06  2022-06-14   \n",
       "1           1  上海外滩璞硯酒店  581695718          手抓食反  5.0  2022-03  2022-03-18   \n",
       "2           2  上海外滩璞硯酒店  576087084      HAKI0222  2.5  2022-02  2022-02-20   \n",
       "3           3  上海外滩璞硯酒店  575270386    118492****  1.2  2022-02  2022-02-15   \n",
       "4           4  上海外滩璞硯酒店  573962070  SwiftyJiukun  5.0  2022-02  2022-02-06   \n",
       "\n",
       "   入住目的       房间                                                 内容  \n",
       "0  家庭亲子    标准大床房  疫情不能离沪，周末来住住酒店。订了普通大床房，给免费升级成江景大床房，窗外能看到黄浦江、人民...  \n",
       "1  情侣出游    高级大床房  保安师傅的态度很好，前台小哥哥小姐姐也不错，后面几天又继续续住。开了酒店白金会员一直升房。就...  \n",
       "2  朋友出游    豪华家庭房  首先吐槽一下酒店楼下停车场，没有免费停车就不说了，环境脏乱差，停车位也很少，80一天的收费标...  \n",
       "3  独自旅行  外滩全景大床房  这个酒店是我入住那么多酒店中的奇葩。首先，房间还行，还算对得起这价格，当然这个主要考虑的是地...  \n",
       "4  情侣出游    豪华大床房  预定的豪华大床房，但是因为没打扫完所以前台就帮忙升级到了外滩江景房。房型没有豪华大床房大，但...  "
      ]
     },
     "execution_count": 3,
     "metadata": {},
     "output_type": "execute_result"
    }
   ],
   "source": [
    "# 加载评论数据\n",
    "reviews = pd.read_csv('./crawl-结果.csv',encoding=\"utf-8\")\n",
    "reviews.head()"
   ]
  },
  {
   "cell_type": "code",
   "execution_count": 4,
   "metadata": {
    "scrolled": true
   },
   "outputs": [
    {
     "data": {
      "text/plain": [
       "(2829, 10)"
      ]
     },
     "execution_count": 4,
     "metadata": {},
     "output_type": "execute_result"
    }
   ],
   "source": [
    "#行数列数\n",
    "reviews.shape"
   ]
  },
  {
   "cell_type": "markdown",
   "metadata": {},
   "source": [
    "# 数据清洗"
   ]
  },
  {
   "cell_type": "code",
   "execution_count": 5,
   "metadata": {},
   "outputs": [
    {
     "data": {
      "text/html": [
       "<div>\n",
       "<style scoped>\n",
       "    .dataframe tbody tr th:only-of-type {\n",
       "        vertical-align: middle;\n",
       "    }\n",
       "\n",
       "    .dataframe tbody tr th {\n",
       "        vertical-align: top;\n",
       "    }\n",
       "\n",
       "    .dataframe thead th {\n",
       "        text-align: right;\n",
       "    }\n",
       "</style>\n",
       "<table border=\"1\" class=\"dataframe\">\n",
       "  <thead>\n",
       "    <tr style=\"text-align: right;\">\n",
       "      <th></th>\n",
       "      <th>Unnamed: 0</th>\n",
       "      <th>酒店名字</th>\n",
       "      <th>用户id</th>\n",
       "      <th>评分</th>\n",
       "      <th>入住时间</th>\n",
       "      <th>发布时间</th>\n",
       "      <th>入住目的</th>\n",
       "      <th>房间</th>\n",
       "      <th>内容</th>\n",
       "    </tr>\n",
       "  </thead>\n",
       "  <tbody>\n",
       "    <tr>\n",
       "      <th>0</th>\n",
       "      <td>0</td>\n",
       "      <td>上海外滩璞硯酒店</td>\n",
       "      <td>595542632</td>\n",
       "      <td>5.0</td>\n",
       "      <td>2022-06</td>\n",
       "      <td>2022-06-14</td>\n",
       "      <td>家庭亲子</td>\n",
       "      <td>标准大床房</td>\n",
       "      <td>疫情不能离沪，周末来住住酒店。订了普通大床房，给免费升级成江景大床房，窗外能看到黄浦江、人民...</td>\n",
       "    </tr>\n",
       "    <tr>\n",
       "      <th>1</th>\n",
       "      <td>1</td>\n",
       "      <td>上海外滩璞硯酒店</td>\n",
       "      <td>581695718</td>\n",
       "      <td>5.0</td>\n",
       "      <td>2022-03</td>\n",
       "      <td>2022-03-18</td>\n",
       "      <td>情侣出游</td>\n",
       "      <td>高级大床房</td>\n",
       "      <td>保安师傅的态度很好，前台小哥哥小姐姐也不错，后面几天又继续续住。开了酒店白金会员一直升房。就...</td>\n",
       "    </tr>\n",
       "    <tr>\n",
       "      <th>2</th>\n",
       "      <td>2</td>\n",
       "      <td>上海外滩璞硯酒店</td>\n",
       "      <td>576087084</td>\n",
       "      <td>2.5</td>\n",
       "      <td>2022-02</td>\n",
       "      <td>2022-02-20</td>\n",
       "      <td>朋友出游</td>\n",
       "      <td>豪华家庭房</td>\n",
       "      <td>首先吐槽一下酒店楼下停车场，没有免费停车就不说了，环境脏乱差，停车位也很少，80一天的收费标...</td>\n",
       "    </tr>\n",
       "    <tr>\n",
       "      <th>3</th>\n",
       "      <td>3</td>\n",
       "      <td>上海外滩璞硯酒店</td>\n",
       "      <td>575270386</td>\n",
       "      <td>1.2</td>\n",
       "      <td>2022-02</td>\n",
       "      <td>2022-02-15</td>\n",
       "      <td>独自旅行</td>\n",
       "      <td>外滩全景大床房</td>\n",
       "      <td>这个酒店是我入住那么多酒店中的奇葩。首先，房间还行，还算对得起这价格，当然这个主要考虑的是地...</td>\n",
       "    </tr>\n",
       "    <tr>\n",
       "      <th>4</th>\n",
       "      <td>4</td>\n",
       "      <td>上海外滩璞硯酒店</td>\n",
       "      <td>573962070</td>\n",
       "      <td>5.0</td>\n",
       "      <td>2022-02</td>\n",
       "      <td>2022-02-06</td>\n",
       "      <td>情侣出游</td>\n",
       "      <td>豪华大床房</td>\n",
       "      <td>预定的豪华大床房，但是因为没打扫完所以前台就帮忙升级到了外滩江景房。房型没有豪华大床房大，但...</td>\n",
       "    </tr>\n",
       "  </tbody>\n",
       "</table>\n",
       "</div>"
      ],
      "text/plain": [
       "   Unnamed: 0      酒店名字       用户id   评分     入住时间        发布时间  入住目的       房间  \\\n",
       "0           0  上海外滩璞硯酒店  595542632  5.0  2022-06  2022-06-14  家庭亲子    标准大床房   \n",
       "1           1  上海外滩璞硯酒店  581695718  5.0  2022-03  2022-03-18  情侣出游    高级大床房   \n",
       "2           2  上海外滩璞硯酒店  576087084  2.5  2022-02  2022-02-20  朋友出游    豪华家庭房   \n",
       "3           3  上海外滩璞硯酒店  575270386  1.2  2022-02  2022-02-15  独自旅行  外滩全景大床房   \n",
       "4           4  上海外滩璞硯酒店  573962070  5.0  2022-02  2022-02-06  情侣出游    豪华大床房   \n",
       "\n",
       "                                                  内容  \n",
       "0  疫情不能离沪，周末来住住酒店。订了普通大床房，给免费升级成江景大床房，窗外能看到黄浦江、人民...  \n",
       "1  保安师傅的态度很好，前台小哥哥小姐姐也不错，后面几天又继续续住。开了酒店白金会员一直升房。就...  \n",
       "2  首先吐槽一下酒店楼下停车场，没有免费停车就不说了，环境脏乱差，停车位也很少，80一天的收费标...  \n",
       "3  这个酒店是我入住那么多酒店中的奇葩。首先，房间还行，还算对得起这价格，当然这个主要考虑的是地...  \n",
       "4  预定的豪华大床房，但是因为没打扫完所以前台就帮忙升级到了外滩江景房。房型没有豪华大床房大，但...  "
      ]
     },
     "execution_count": 5,
     "metadata": {},
     "output_type": "execute_result"
    }
   ],
   "source": [
    "del reviews['评论者']\n",
    "reviews.head()"
   ]
  },
  {
   "cell_type": "code",
   "execution_count": 6,
   "metadata": {},
   "outputs": [
    {
     "data": {
      "text/plain": [
       "320"
      ]
     },
     "execution_count": 6,
     "metadata": {},
     "output_type": "execute_result"
    }
   ],
   "source": [
    "# 统计重复数据\n",
    "reviews[['用户id', '内容']].duplicated().sum()"
   ]
  },
  {
   "cell_type": "code",
   "execution_count": 7,
   "metadata": {},
   "outputs": [],
   "source": [
    "# 评论去重\n",
    "reviews.drop_duplicates(['用户id', '内容'],keep='first')\n",
    "#reviews = reviews[['用户id', '内容']].drop_duplicates()\n",
    "# 重置索引\n",
    "reviews.reset_index(drop=True,inplace=True)"
   ]
  },
  {
   "cell_type": "code",
   "execution_count": 8,
   "metadata": {
    "scrolled": false
   },
   "outputs": [
    {
     "data": {
      "text/plain": [
       "Unnamed: 0     0\n",
       "酒店名字           0\n",
       "用户id           0\n",
       "评分             0\n",
       "入住时间           0\n",
       "发布时间           0\n",
       "入住目的           0\n",
       "房间            14\n",
       "内容             0\n",
       "dtype: int64"
      ]
     },
     "execution_count": 8,
     "metadata": {},
     "output_type": "execute_result"
    }
   ],
   "source": [
    "#缺失值检查\n",
    "reviews.isnull().sum()\n",
    "#因为‘房间’不是关键数据，所以暂不不处理"
   ]
  },
  {
   "cell_type": "markdown",
   "metadata": {},
   "source": [
    "# #评论分词"
   ]
  },
  {
   "cell_type": "code",
   "execution_count": 9,
   "metadata": {
    "scrolled": true
   },
   "outputs": [
    {
     "data": {
      "text/html": [
       "<div>\n",
       "<style scoped>\n",
       "    .dataframe tbody tr th:only-of-type {\n",
       "        vertical-align: middle;\n",
       "    }\n",
       "\n",
       "    .dataframe tbody tr th {\n",
       "        vertical-align: top;\n",
       "    }\n",
       "\n",
       "    .dataframe thead th {\n",
       "        text-align: right;\n",
       "    }\n",
       "</style>\n",
       "<table border=\"1\" class=\"dataframe\">\n",
       "  <thead>\n",
       "    <tr style=\"text-align: right;\">\n",
       "      <th></th>\n",
       "      <th>Unnamed: 0</th>\n",
       "      <th>酒店名字</th>\n",
       "      <th>用户id</th>\n",
       "      <th>评分</th>\n",
       "      <th>入住时间</th>\n",
       "      <th>发布时间</th>\n",
       "      <th>入住目的</th>\n",
       "      <th>房间</th>\n",
       "      <th>内容</th>\n",
       "    </tr>\n",
       "  </thead>\n",
       "  <tbody>\n",
       "    <tr>\n",
       "      <th>0</th>\n",
       "      <td>0</td>\n",
       "      <td>上海外滩璞硯酒店</td>\n",
       "      <td>595542632</td>\n",
       "      <td>5.0</td>\n",
       "      <td>2022-06</td>\n",
       "      <td>2022-06-14</td>\n",
       "      <td>家庭亲子</td>\n",
       "      <td>标准大床房</td>\n",
       "      <td>疫情不能离沪，周末来住住。订了普通大床房，给免费升级成江景大床房，窗外能看到黄浦江、人民英雄...</td>\n",
       "    </tr>\n",
       "    <tr>\n",
       "      <th>1</th>\n",
       "      <td>1</td>\n",
       "      <td>上海外滩璞硯酒店</td>\n",
       "      <td>581695718</td>\n",
       "      <td>5.0</td>\n",
       "      <td>2022-03</td>\n",
       "      <td>2022-03-18</td>\n",
       "      <td>情侣出游</td>\n",
       "      <td>高级大床房</td>\n",
       "      <td>保安师傅的态度很好，前台小哥哥小姐姐也不错，后面几天又继续续住。开了白金会员一直升房。就是第...</td>\n",
       "    </tr>\n",
       "    <tr>\n",
       "      <th>2</th>\n",
       "      <td>2</td>\n",
       "      <td>上海外滩璞硯酒店</td>\n",
       "      <td>576087084</td>\n",
       "      <td>2.5</td>\n",
       "      <td>2022-02</td>\n",
       "      <td>2022-02-20</td>\n",
       "      <td>朋友出游</td>\n",
       "      <td>豪华家庭房</td>\n",
       "      <td>首先吐槽一下楼下停车场，没有免费停车就不说了，环境脏乱差，停车位也很少，一天的收费标准真的不...</td>\n",
       "    </tr>\n",
       "    <tr>\n",
       "      <th>3</th>\n",
       "      <td>3</td>\n",
       "      <td>上海外滩璞硯酒店</td>\n",
       "      <td>575270386</td>\n",
       "      <td>1.2</td>\n",
       "      <td>2022-02</td>\n",
       "      <td>2022-02-15</td>\n",
       "      <td>独自旅行</td>\n",
       "      <td>外滩全景大床房</td>\n",
       "      <td>这个是我入住那么多中的奇葩。首先，还行，还算对得起这价格，当然这个主要考虑的是地段。其次，住...</td>\n",
       "    </tr>\n",
       "    <tr>\n",
       "      <th>4</th>\n",
       "      <td>4</td>\n",
       "      <td>上海外滩璞硯酒店</td>\n",
       "      <td>573962070</td>\n",
       "      <td>5.0</td>\n",
       "      <td>2022-02</td>\n",
       "      <td>2022-02-06</td>\n",
       "      <td>情侣出游</td>\n",
       "      <td>豪华大床房</td>\n",
       "      <td>预定的豪华大床房，但是因为没打扫完所以前台就帮忙升级到了外滩江景房。房型没有豪华大床房大，但...</td>\n",
       "    </tr>\n",
       "  </tbody>\n",
       "</table>\n",
       "</div>"
      ],
      "text/plain": [
       "   Unnamed: 0      酒店名字       用户id   评分     入住时间        发布时间  入住目的       房间  \\\n",
       "0           0  上海外滩璞硯酒店  595542632  5.0  2022-06  2022-06-14  家庭亲子    标准大床房   \n",
       "1           1  上海外滩璞硯酒店  581695718  5.0  2022-03  2022-03-18  情侣出游    高级大床房   \n",
       "2           2  上海外滩璞硯酒店  576087084  2.5  2022-02  2022-02-20  朋友出游    豪华家庭房   \n",
       "3           3  上海外滩璞硯酒店  575270386  1.2  2022-02  2022-02-15  独自旅行  外滩全景大床房   \n",
       "4           4  上海外滩璞硯酒店  573962070  5.0  2022-02  2022-02-06  情侣出游    豪华大床房   \n",
       "\n",
       "                                                  内容  \n",
       "0  疫情不能离沪，周末来住住。订了普通大床房，给免费升级成江景大床房，窗外能看到黄浦江、人民英雄...  \n",
       "1  保安师傅的态度很好，前台小哥哥小姐姐也不错，后面几天又继续续住。开了白金会员一直升房。就是第...  \n",
       "2  首先吐槽一下楼下停车场，没有免费停车就不说了，环境脏乱差，停车位也很少，一天的收费标准真的不...  \n",
       "3  这个是我入住那么多中的奇葩。首先，还行，还算对得起这价格，当然这个主要考虑的是地段。其次，住...  \n",
       "4  预定的豪华大床房，但是因为没打扫完所以前台就帮忙升级到了外滩江景房。房型没有豪华大床房大，但...  "
      ]
     },
     "execution_count": 9,
     "metadata": {},
     "output_type": "execute_result"
    }
   ],
   "source": [
    "# 去掉评论中的数字、字母，以及“上海”“酒店”“房间”“携程”\n",
    "# 编译匹配模式\n",
    "pattern = re.compile('[a-zA-Z0-9]|上海|酒店|房间|携程')\n",
    "# re.sub用于替换字符串中的匹配项\n",
    "reviews['内容'] = reviews['内容'].apply(lambda x : pattern.sub('',x))\n",
    "reviews.head()"
   ]
  },
  {
   "cell_type": "code",
   "execution_count": 10,
   "metadata": {},
   "outputs": [
    {
     "name": "stderr",
     "output_type": "stream",
     "text": [
      "Building prefix dict from the default dictionary ...\n",
      "Loading model from cache C:\\Users\\Ray\\AppData\\Local\\Temp\\jieba.cache\n",
      "Loading model cost 0.855 seconds.\n",
      "Prefix dict has been built successfully.\n"
     ]
    },
    {
     "data": {
      "text/html": [
       "<div>\n",
       "<style scoped>\n",
       "    .dataframe tbody tr th:only-of-type {\n",
       "        vertical-align: middle;\n",
       "    }\n",
       "\n",
       "    .dataframe tbody tr th {\n",
       "        vertical-align: top;\n",
       "    }\n",
       "\n",
       "    .dataframe thead th {\n",
       "        text-align: right;\n",
       "    }\n",
       "</style>\n",
       "<table border=\"1\" class=\"dataframe\">\n",
       "  <thead>\n",
       "    <tr style=\"text-align: right;\">\n",
       "      <th></th>\n",
       "      <th>index_content</th>\n",
       "      <th>word</th>\n",
       "      <th>nature</th>\n",
       "      <th>content_type</th>\n",
       "    </tr>\n",
       "  </thead>\n",
       "  <tbody>\n",
       "    <tr>\n",
       "      <th>0</th>\n",
       "      <td>0</td>\n",
       "      <td>疫情</td>\n",
       "      <td>n</td>\n",
       "      <td>5.0</td>\n",
       "    </tr>\n",
       "    <tr>\n",
       "      <th>1</th>\n",
       "      <td>0</td>\n",
       "      <td>不能</td>\n",
       "      <td>v</td>\n",
       "      <td>5.0</td>\n",
       "    </tr>\n",
       "    <tr>\n",
       "      <th>2</th>\n",
       "      <td>0</td>\n",
       "      <td>离</td>\n",
       "      <td>v</td>\n",
       "      <td>5.0</td>\n",
       "    </tr>\n",
       "    <tr>\n",
       "      <th>3</th>\n",
       "      <td>0</td>\n",
       "      <td>沪</td>\n",
       "      <td>j</td>\n",
       "      <td>5.0</td>\n",
       "    </tr>\n",
       "    <tr>\n",
       "      <th>4</th>\n",
       "      <td>0</td>\n",
       "      <td>，</td>\n",
       "      <td>x</td>\n",
       "      <td>5.0</td>\n",
       "    </tr>\n",
       "  </tbody>\n",
       "</table>\n",
       "</div>"
      ],
      "text/plain": [
       "   index_content word nature  content_type\n",
       "0              0   疫情      n           5.0\n",
       "1              0   不能      v           5.0\n",
       "2              0    离      v           5.0\n",
       "3              0    沪      j           5.0\n",
       "4              0    ，      x           5.0"
      ]
     },
     "execution_count": 10,
     "metadata": {},
     "output_type": "execute_result"
    }
   ],
   "source": [
    "# 自定义简单的分词函数\n",
    "content = reviews['内容']\n",
    "worker = lambda s : [[x.word,x.flag] for x in psg.cut(s)]   # 单词与词性\n",
    "seg_word = content.apply(worker)\n",
    "# 将词语转化为数据框形式，一列是词，一列是词语所在的句子id，最后一列是词语在该句子中的位置\n",
    " # 每一评论中词的个数\n",
    "n_word = seg_word.apply(lambda x: len(x)) \n",
    "# 构造词语所在的句子id\n",
    "n_content = [[x]*y for x,y in zip(list(seg_word.index), list(n_word))]\n",
    "# 将嵌套的列表展开，作为词所在评论的id\n",
    "index_content = sum(n_content, [])  \n",
    "\n",
    "seg_word = sum(seg_word,[])\n",
    "# 词\n",
    "word = [x[0] for x in seg_word]\n",
    "# 词性\n",
    "nature = [x[1] for x in seg_word]\n",
    "# ratingPoint评分\n",
    "ratingPoint = [[x]*y for x,y in zip(list(reviews['评分']),list(n_word))]\n",
    "ratingPoint = sum(ratingPoint,[])\n",
    "\n",
    "# 构造数据框\n",
    "result = pd.DataFrame({'index_content': index_content,\n",
    "                      'word' : word,\n",
    "                      'nature': nature,\n",
    "                      'content_type' : ratingPoint })\n",
    "result.head()"
   ]
  },
  {
   "cell_type": "code",
   "execution_count": 11,
   "metadata": {
    "scrolled": true
   },
   "outputs": [
    {
     "data": {
      "text/html": [
       "<div>\n",
       "<style scoped>\n",
       "    .dataframe tbody tr th:only-of-type {\n",
       "        vertical-align: middle;\n",
       "    }\n",
       "\n",
       "    .dataframe tbody tr th {\n",
       "        vertical-align: top;\n",
       "    }\n",
       "\n",
       "    .dataframe thead th {\n",
       "        text-align: right;\n",
       "    }\n",
       "</style>\n",
       "<table border=\"1\" class=\"dataframe\">\n",
       "  <thead>\n",
       "    <tr style=\"text-align: right;\">\n",
       "      <th></th>\n",
       "      <th>index_content</th>\n",
       "      <th>word</th>\n",
       "      <th>nature</th>\n",
       "      <th>content_type</th>\n",
       "    </tr>\n",
       "  </thead>\n",
       "  <tbody>\n",
       "    <tr>\n",
       "      <th>0</th>\n",
       "      <td>0</td>\n",
       "      <td>疫情</td>\n",
       "      <td>n</td>\n",
       "      <td>5.0</td>\n",
       "    </tr>\n",
       "    <tr>\n",
       "      <th>1</th>\n",
       "      <td>0</td>\n",
       "      <td>不能</td>\n",
       "      <td>v</td>\n",
       "      <td>5.0</td>\n",
       "    </tr>\n",
       "    <tr>\n",
       "      <th>2</th>\n",
       "      <td>0</td>\n",
       "      <td>离</td>\n",
       "      <td>v</td>\n",
       "      <td>5.0</td>\n",
       "    </tr>\n",
       "    <tr>\n",
       "      <th>3</th>\n",
       "      <td>0</td>\n",
       "      <td>沪</td>\n",
       "      <td>j</td>\n",
       "      <td>5.0</td>\n",
       "    </tr>\n",
       "    <tr>\n",
       "      <th>5</th>\n",
       "      <td>0</td>\n",
       "      <td>周末</td>\n",
       "      <td>t</td>\n",
       "      <td>5.0</td>\n",
       "    </tr>\n",
       "  </tbody>\n",
       "</table>\n",
       "</div>"
      ],
      "text/plain": [
       "   index_content word nature  content_type\n",
       "0              0   疫情      n           5.0\n",
       "1              0   不能      v           5.0\n",
       "2              0    离      v           5.0\n",
       "3              0    沪      j           5.0\n",
       "5              0   周末      t           5.0"
      ]
     },
     "execution_count": 11,
     "metadata": {},
     "output_type": "execute_result"
    }
   ],
   "source": [
    "# 删除标点符号\n",
    "result = result[result['nature'] != 'x']\n",
    "result.head()"
   ]
  },
  {
   "cell_type": "code",
   "execution_count": 12,
   "metadata": {},
   "outputs": [
    {
     "data": {
      "text/html": [
       "<div>\n",
       "<style scoped>\n",
       "    .dataframe tbody tr th:only-of-type {\n",
       "        vertical-align: middle;\n",
       "    }\n",
       "\n",
       "    .dataframe tbody tr th {\n",
       "        vertical-align: top;\n",
       "    }\n",
       "\n",
       "    .dataframe thead th {\n",
       "        text-align: right;\n",
       "    }\n",
       "</style>\n",
       "<table border=\"1\" class=\"dataframe\">\n",
       "  <thead>\n",
       "    <tr style=\"text-align: right;\">\n",
       "      <th></th>\n",
       "      <th>index_content</th>\n",
       "      <th>word</th>\n",
       "      <th>nature</th>\n",
       "      <th>content_type</th>\n",
       "    </tr>\n",
       "  </thead>\n",
       "  <tbody>\n",
       "    <tr>\n",
       "      <th>0</th>\n",
       "      <td>0</td>\n",
       "      <td>疫情</td>\n",
       "      <td>n</td>\n",
       "      <td>5.0</td>\n",
       "    </tr>\n",
       "    <tr>\n",
       "      <th>3</th>\n",
       "      <td>0</td>\n",
       "      <td>沪</td>\n",
       "      <td>j</td>\n",
       "      <td>5.0</td>\n",
       "    </tr>\n",
       "    <tr>\n",
       "      <th>5</th>\n",
       "      <td>0</td>\n",
       "      <td>周末</td>\n",
       "      <td>t</td>\n",
       "      <td>5.0</td>\n",
       "    </tr>\n",
       "    <tr>\n",
       "      <th>7</th>\n",
       "      <td>0</td>\n",
       "      <td>住</td>\n",
       "      <td>v</td>\n",
       "      <td>5.0</td>\n",
       "    </tr>\n",
       "    <tr>\n",
       "      <th>8</th>\n",
       "      <td>0</td>\n",
       "      <td>住</td>\n",
       "      <td>v</td>\n",
       "      <td>5.0</td>\n",
       "    </tr>\n",
       "  </tbody>\n",
       "</table>\n",
       "</div>"
      ],
      "text/plain": [
       "   index_content word nature  content_type\n",
       "0              0   疫情      n           5.0\n",
       "3              0    沪      j           5.0\n",
       "5              0   周末      t           5.0\n",
       "7              0    住      v           5.0\n",
       "8              0    住      v           5.0"
      ]
     },
     "execution_count": 12,
     "metadata": {},
     "output_type": "execute_result"
    }
   ],
   "source": [
    "# 删除停用词\n",
    "# 加载停用词\n",
    "stop_path = open('./baidu_stopwords.txt','r',encoding='utf-8')\n",
    "stop = [x.replace('\\n','') for x in stop_path.readlines()]\n",
    "# 得到非停用词序列\n",
    "word = list(set(word) - set(stop))\n",
    "# 判断表格中的单词列是否在非停用词列中\n",
    "result = result[result['word'].isin(word)]\n",
    "result.head()"
   ]
  },
  {
   "cell_type": "code",
   "execution_count": 13,
   "metadata": {},
   "outputs": [
    {
     "data": {
      "text/html": [
       "<div>\n",
       "<style scoped>\n",
       "    .dataframe tbody tr th:only-of-type {\n",
       "        vertical-align: middle;\n",
       "    }\n",
       "\n",
       "    .dataframe tbody tr th {\n",
       "        vertical-align: top;\n",
       "    }\n",
       "\n",
       "    .dataframe thead th {\n",
       "        text-align: right;\n",
       "    }\n",
       "</style>\n",
       "<table border=\"1\" class=\"dataframe\">\n",
       "  <thead>\n",
       "    <tr style=\"text-align: right;\">\n",
       "      <th></th>\n",
       "      <th>index_content</th>\n",
       "      <th>word</th>\n",
       "      <th>nature</th>\n",
       "      <th>content_type</th>\n",
       "      <th>index_word</th>\n",
       "    </tr>\n",
       "  </thead>\n",
       "  <tbody>\n",
       "    <tr>\n",
       "      <th>0</th>\n",
       "      <td>0</td>\n",
       "      <td>疫情</td>\n",
       "      <td>n</td>\n",
       "      <td>5.0</td>\n",
       "      <td>0</td>\n",
       "    </tr>\n",
       "    <tr>\n",
       "      <th>1</th>\n",
       "      <td>0</td>\n",
       "      <td>沪</td>\n",
       "      <td>j</td>\n",
       "      <td>5.0</td>\n",
       "      <td>1</td>\n",
       "    </tr>\n",
       "    <tr>\n",
       "      <th>2</th>\n",
       "      <td>0</td>\n",
       "      <td>周末</td>\n",
       "      <td>t</td>\n",
       "      <td>5.0</td>\n",
       "      <td>2</td>\n",
       "    </tr>\n",
       "    <tr>\n",
       "      <th>3</th>\n",
       "      <td>0</td>\n",
       "      <td>住</td>\n",
       "      <td>v</td>\n",
       "      <td>5.0</td>\n",
       "      <td>3</td>\n",
       "    </tr>\n",
       "    <tr>\n",
       "      <th>4</th>\n",
       "      <td>0</td>\n",
       "      <td>住</td>\n",
       "      <td>v</td>\n",
       "      <td>5.0</td>\n",
       "      <td>4</td>\n",
       "    </tr>\n",
       "  </tbody>\n",
       "</table>\n",
       "</div>"
      ],
      "text/plain": [
       "   index_content word nature  content_type  index_word\n",
       "0              0   疫情      n           5.0           0\n",
       "1              0    沪      j           5.0           1\n",
       "2              0   周末      t           5.0           2\n",
       "3              0    住      v           5.0           3\n",
       "4              0    住      v           5.0           4"
      ]
     },
     "execution_count": 13,
     "metadata": {},
     "output_type": "execute_result"
    }
   ],
   "source": [
    "# 构造各词在评论中的位置列\n",
    "n_word = list(result.groupby(by=['index_content'])['index_content'].count())\n",
    "index_word = [list(np.arange(0,x)) for x in n_word]\n",
    "index_word = sum(index_word,[])\n",
    "result['index_word'] = index_word\n",
    "result.reset_index(drop=True,inplace=True)\n",
    "result.head()"
   ]
  },
  {
   "cell_type": "markdown",
   "metadata": {},
   "source": [
    "# 评论文本的词云可视化"
   ]
  },
  {
   "cell_type": "code",
   "execution_count": 19,
   "metadata": {},
   "outputs": [
    {
     "data": {
      "image/png": "[encoded data removed]",
      "text/plain": [
       "<Figure size 432x288 with 1 Axes>"
      ]
     },
     "metadata": {
      "needs_background": "light"
     },
     "output_type": "display_data"
    },
    {
     "data": {
      "text/plain": [
       "<wordcloud.wordcloud.WordCloud at 0x1e6b1296f40>"
      ]
     },
     "execution_count": 19,
     "metadata": {},
     "output_type": "execute_result"
    }
   ],
   "source": [
    "#词云\n",
    "from wordcloud import WordCloud\n",
    "import matplotlib.pyplot as plt\n",
    "\n",
    "# 按word分组统计数目\n",
    "frequencies = result.groupby(by = ['word'])['word'].count()\n",
    "# 按数目降序排序\n",
    "frequencies = frequencies.sort_values(ascending = False)\n",
    "# 从文件中将图像读取为数组\n",
    "backgroud_Image=plt.imread('./cloud.jpg')\n",
    "wordcloud = WordCloud(font_path=\"D:\\college\\大二下\\数据科学导论\\期末提交\\codes\\《crawl-preprocess-storage》\\source\\simsun.ttf\",#字体\n",
    "                      max_words=200,            # 选择前100词\n",
    "                      background_color='white',  # 背景颜色为白色\n",
    "                      mask=backgroud_Image)\n",
    "my_wordcloud = wordcloud.fit_words(frequencies)\n",
    "# 将数据展示到二维图像上\n",
    "plt.imshow(my_wordcloud)\n",
    "# 关掉x,y轴\n",
    "plt.axis('off') \n",
    "plt.show()\n",
    "\n",
    "# 将图片导出\n",
    "wordcloud.to_file(\"new_wordcloud.png\")"
   ]
  },
  {
   "cell_type": "markdown",
   "metadata": {},
   "source": [
    "# 数据存储"
   ]
  },
  {
   "cell_type": "code",
   "execution_count": 14,
   "metadata": {},
   "outputs": [],
   "source": [
    "#存储评论\n",
    "result.to_csv(\"storage-评论内容.csv\", index = False, encoding = 'utf-8')"
   ]
  },
  {
   "cell_type": "code",
   "execution_count": 15,
   "metadata": {
    "scrolled": true
   },
   "outputs": [
    {
     "name": "stdout",
     "output_type": "stream",
     "text": [
      "index_content\n",
      "0       [疫情, 沪, 周末, 住, 订, 大床, 房, 免费, 升级成, 江景, 窗外, 黄浦江,...\n",
      "1       [保安, 师傅, 态度, 很, 好, 前台, 小, 哥哥, 小姐姐, 不错, 几天, 续住,...\n",
      "2       [吐, 槽, 楼下, 停车场, 免费, 停车, 不, 说, 环境, 脏乱差, 停车位, 很少...\n",
      "3       [入住, 中, 奇葩, 还, 行, 算, 对得起, 价格, 地段, 住, 车库, 最小, 最...\n",
      "4       [预定, 豪华, 大床, 房, 没, 打扫, 完, 前台, 帮忙, 升级, 外滩, 江景, ...\n",
      "                              ...                        \n",
      "2824                        [精品, 细节, 都, 不错, 适合, 周末, 度, 假]\n",
      "2825    [价格, 不算, 便宜, 层高, 面积, 有限, 但胜, 地理位置, 优越, 内, 花园, ...\n",
      "2826    [刚, 开学, 小朋友, 班里, 病情, 请, 两天, 假, 避一避, 算是, 错峰, 带,...\n",
      "2827    [早餐, 味道, 不错, 干净, 舒适, 提供, 免费, 饮料, 很, 惊喜, 户外, 小,...\n",
      "2828    [装修, 风格, 简洁, 大方, 喜欢, 日式, 整体, 建筑, 低矮, 二层, 中心, 内...\n",
      "Name: word, Length: 2822, dtype: object\n"
     ]
    }
   ],
   "source": [
    "#将分词后的评论放进总体\n",
    "#result.reset_index(inplace=True)\n",
    "gb = result.groupby(['index_content'])\n",
    "Result = gb['word'].unique()\n",
    "print(Result)"
   ]
  },
  {
   "cell_type": "code",
   "execution_count": 16,
   "metadata": {},
   "outputs": [],
   "source": [
    "df = pd.DataFrame(reviews)\n",
    "df_reviews=df.rename(columns={\"Unnamed: 0\":\"index_content\" })"
   ]
  },
  {
   "cell_type": "code",
   "execution_count": 17,
   "metadata": {},
   "outputs": [],
   "source": [
    "data_merge = pd.merge(left=df_reviews,right=Result,on='index_content',how='outer')\n",
    "data_merge.head()\n",
    "data_merge.to_csv(\"storage-总体结果.csv\", index = False, encoding = 'utf-8')"
   ]
  },
  {
   "cell_type": "code",
   "execution_count": null,
   "metadata": {},
   "outputs": [],
   "source": []
  }
 ],
 "metadata": {
  "kernelspec": {
   "display_name": "Python 3",
   "language": "python",
   "name": "python3"
  },
  "language_info": {
   "codemirror_mode": {
    "name": "ipython",
    "version": 3
   },
   "file_extension": ".py",
   "mimetype": "text/x-python",
   "name": "python",
   "nbconvert_exporter": "python",
   "pygments_lexer": "ipython3",
   "version": "3.8.3"
  }
 },
 "nbformat": 4,
 "nbformat_minor": 4
}
